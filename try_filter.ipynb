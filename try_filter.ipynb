{
 "cells": [
  {
   "cell_type": "code",
   "execution_count": 1,
   "metadata": {},
   "outputs": [],
   "source": [
    "from pivpy import io\n",
    "from pivpy import pivpy\n",
    "from scipy.ndimage.filters import gaussian_filter"
   ]
  },
  {
   "cell_type": "code",
   "execution_count": 2,
   "metadata": {},
   "outputs": [],
   "source": [
    "ds = io.create_sample_dataset()\n",
    "ds2 = ds.copy(deep=True)"
   ]
  },
  {
   "cell_type": "code",
   "execution_count": 3,
   "metadata": {},
   "outputs": [
    {
     "data": {
      "text/plain": [
       "<xarray.Dataset>\n",
       "Dimensions:  (t: 5, x: 3, y: 7)\n",
       "Coordinates:\n",
       "  * x        (x) float64 32.0 64.0 96.0\n",
       "  * y        (y) float64 16.0 32.0 48.0 64.0 80.0 96.0 112.0\n",
       "  * t        (t) int64 0 1 2 3 4\n",
       "Data variables:\n",
       "    u        (x, y, t) float64 1.0 1.0 1.0 1.0 1.0 2.0 ... 7.0 7.0 7.0 7.0 7.0\n",
       "    v        (x, y, t) float64 0.02514 -0.499 0.07393 ... -0.3746 0.4407 0.03312\n",
       "    chc      (x, y, t) float64 1.0 1.0 1.0 1.0 1.0 1.0 ... 1.0 1.0 1.0 1.0 1.0\n",
       "Attributes:\n",
       "    variables:  ['x', 'y', 'u', 'v']\n",
       "    units:      ['pix', 'pix', 'pix/dt', 'pix/dt']\n",
       "    dt:         1.0\n",
       "    files:      "
      ]
     },
     "execution_count": 3,
     "metadata": {},
     "output_type": "execute_result"
    }
   ],
   "source": [
    "ds"
   ]
  },
  {
   "cell_type": "code",
   "execution_count": 4,
   "metadata": {},
   "outputs": [
    {
     "data": {
      "text/plain": [
       "<xarray.Dataset>\n",
       "Dimensions:  (t: 5, x: 3, y: 7)\n",
       "Coordinates:\n",
       "  * x        (x) float64 32.0 64.0 96.0\n",
       "  * y        (y) float64 16.0 32.0 48.0 64.0 80.0 96.0 112.0\n",
       "  * t        (t) int64 0 1 2 3 4\n",
       "Data variables:\n",
       "    u        (x, y, t) float64 1.0 1.0 1.0 1.0 1.0 2.0 ... 7.0 7.0 7.0 7.0 7.0\n",
       "    v        (x, y, t) float64 0.02514 -0.499 0.07393 ... -0.3746 0.4407 0.03312\n",
       "    chc      (x, y, t) float64 1.0 1.0 1.0 1.0 1.0 1.0 ... 1.0 1.0 1.0 1.0 1.0\n",
       "Attributes:\n",
       "    variables:  ['x', 'y', 'u', 'v']\n",
       "    units:      ['pix', 'pix', 'pix/dt', 'pix/dt']\n",
       "    dt:         1.0\n",
       "    files:      "
      ]
     },
     "execution_count": 4,
     "metadata": {},
     "output_type": "execute_result"
    }
   ],
   "source": [
    "ds2"
   ]
  },
  {
   "cell_type": "code",
   "execution_count": 14,
   "metadata": {},
   "outputs": [
    {
     "data": {
      "text/plain": [
       "<xarray.DataArray 'u' (x: 3, y: 7)>\n",
       "array([[1., 2., 3., 4., 5., 6., 7.],\n",
       "       [1., 2., 3., 4., 5., 6., 7.],\n",
       "       [1., 2., 3., 4., 5., 6., 7.]])\n",
       "Coordinates:\n",
       "  * x        (x) float64 32.0 64.0 96.0\n",
       "  * y        (y) float64 16.0 32.0 48.0 64.0 80.0 96.0 112.0\n",
       "    t        int64 0"
      ]
     },
     "execution_count": 14,
     "metadata": {},
     "output_type": "execute_result"
    }
   ],
   "source": [
    "ds.u.isel(t=0)"
   ]
  },
  {
   "cell_type": "code",
   "execution_count": 16,
   "metadata": {},
   "outputs": [
    {
     "ename": "SyntaxError",
     "evalue": "can't assign to function call (<ipython-input-16-b2eac546e04f>, line 2)",
     "output_type": "error",
     "traceback": [
      "\u001b[0;36m  File \u001b[0;32m\"<ipython-input-16-b2eac546e04f>\"\u001b[0;36m, line \u001b[0;32m2\u001b[0m\n\u001b[0;31m    ds.u.isel(t=0) = gaussian_filter(ds.u.isel(t=0),1)\u001b[0m\n\u001b[0m                                                      ^\u001b[0m\n\u001b[0;31mSyntaxError\u001b[0m\u001b[0;31m:\u001b[0m can't assign to function call\n"
     ]
    }
   ],
   "source": [
    "ds.u.isel(t=0)\n",
    "ds.u.isel(t=0) = gaussian_filter(ds.u.isel(t=0),1)"
   ]
  },
  {
   "cell_type": "code",
   "execution_count": 25,
   "metadata": {},
   "outputs": [
    {
     "name": "stdout",
     "output_type": "stream",
     "text": [
      "<xarray.DataArray 'u' (x: 3, y: 7)>\n",
      "array([[1., 2., 3., 4., 5., 6., 7.],\n",
      "       [1., 2., 3., 4., 5., 6., 7.],\n",
      "       [1., 2., 3., 4., 5., 6., 7.]])\n",
      "Coordinates:\n",
      "  * x        (x) float64 32.0 64.0 96.0\n",
      "  * y        (y) float64 16.0 32.0 48.0 64.0 80.0 96.0 112.0\n",
      "    t        int64 0\n",
      "<xarray.DataArray 'u' ()>\n",
      "array(1.427041)\n",
      "Coordinates:\n",
      "    x        float64 32.0\n",
      "    y        float64 16.0\n",
      "    t        int64 0\n",
      "<xarray.DataArray 'u' ()>\n",
      "array(1.)\n",
      "Coordinates:\n",
      "    x        float64 32.0\n",
      "    y        float64 16.0\n",
      "    t        int64 0\n",
      "<xarray.DataArray 'u' (x: 3, y: 7)>\n",
      "array([[1., 2., 3., 4., 5., 6., 7.],\n",
      "       [1., 2., 3., 4., 5., 6., 7.],\n",
      "       [1., 2., 3., 4., 5., 6., 7.]])\n",
      "Coordinates:\n",
      "  * x        (x) float64 32.0 64.0 96.0\n",
      "  * y        (y) float64 16.0 32.0 48.0 64.0 80.0 96.0 112.0\n",
      "    t        int64 1\n",
      "<xarray.DataArray 'u' ()>\n",
      "array(1.427041)\n",
      "Coordinates:\n",
      "    x        float64 32.0\n",
      "    y        float64 16.0\n",
      "    t        int64 1\n",
      "<xarray.DataArray 'u' ()>\n",
      "array(1.)\n",
      "Coordinates:\n",
      "    x        float64 32.0\n",
      "    y        float64 16.0\n",
      "    t        int64 1\n",
      "<xarray.DataArray 'u' (x: 3, y: 7)>\n",
      "array([[1., 2., 3., 4., 5., 6., 7.],\n",
      "       [1., 2., 3., 4., 5., 6., 7.],\n",
      "       [1., 2., 3., 4., 5., 6., 7.]])\n",
      "Coordinates:\n",
      "  * x        (x) float64 32.0 64.0 96.0\n",
      "  * y        (y) float64 16.0 32.0 48.0 64.0 80.0 96.0 112.0\n",
      "    t        int64 2\n",
      "<xarray.DataArray 'u' ()>\n",
      "array(1.427041)\n",
      "Coordinates:\n",
      "    x        float64 32.0\n",
      "    y        float64 16.0\n",
      "    t        int64 2\n",
      "<xarray.DataArray 'u' ()>\n",
      "array(1.)\n",
      "Coordinates:\n",
      "    x        float64 32.0\n",
      "    y        float64 16.0\n",
      "    t        int64 2\n",
      "<xarray.DataArray 'u' (x: 3, y: 7)>\n",
      "array([[1., 2., 3., 4., 5., 6., 7.],\n",
      "       [1., 2., 3., 4., 5., 6., 7.],\n",
      "       [1., 2., 3., 4., 5., 6., 7.]])\n",
      "Coordinates:\n",
      "  * x        (x) float64 32.0 64.0 96.0\n",
      "  * y        (y) float64 16.0 32.0 48.0 64.0 80.0 96.0 112.0\n",
      "    t        int64 3\n",
      "<xarray.DataArray 'u' ()>\n",
      "array(1.427041)\n",
      "Coordinates:\n",
      "    x        float64 32.0\n",
      "    y        float64 16.0\n",
      "    t        int64 3\n",
      "<xarray.DataArray 'u' ()>\n",
      "array(1.)\n",
      "Coordinates:\n",
      "    x        float64 32.0\n",
      "    y        float64 16.0\n",
      "    t        int64 3\n",
      "<xarray.DataArray 'u' (x: 3, y: 7)>\n",
      "array([[1., 2., 3., 4., 5., 6., 7.],\n",
      "       [1., 2., 3., 4., 5., 6., 7.],\n",
      "       [1., 2., 3., 4., 5., 6., 7.]])\n",
      "Coordinates:\n",
      "  * x        (x) float64 32.0 64.0 96.0\n",
      "  * y        (y) float64 16.0 32.0 48.0 64.0 80.0 96.0 112.0\n",
      "    t        int64 4\n",
      "<xarray.DataArray 'u' ()>\n",
      "array(1.427041)\n",
      "Coordinates:\n",
      "    x        float64 32.0\n",
      "    y        float64 16.0\n",
      "    t        int64 4\n",
      "<xarray.DataArray 'u' ()>\n",
      "array(1.)\n",
      "Coordinates:\n",
      "    x        float64 32.0\n",
      "    y        float64 16.0\n",
      "    t        int64 4\n"
     ]
    }
   ],
   "source": [
    "import xarray as xr\n",
    "\n",
    "for t in range(len(ds.t)):\n",
    "    tmp = ds.isel(t=t)\n",
    "    print(tmp.u)\n",
    "    tmp['u'] = xr.DataArray(gaussian_filter(tmp.u,1), dims=['x','y'])\n",
    "    print(tmp.u[0,0])\n",
    "    print(ds.isel(t=t).u[0,0])\n",
    "    tmp['v'] = xr.DataArray(gaussian_filter(tmp.u,1), dims=['x','y'])\n",
    "    "
   ]
  },
  {
   "cell_type": "code",
   "execution_count": 26,
   "metadata": {},
   "outputs": [
    {
     "data": {
      "text/plain": [
       "<xarray.DataArray 'u' ()>\n",
       "array(1.)\n",
       "Coordinates:\n",
       "    x        float64 32.0\n",
       "    y        float64 16.0\n",
       "    t        int64 0"
      ]
     },
     "execution_count": 26,
     "metadata": {},
     "output_type": "execute_result"
    }
   ],
   "source": [
    "ds.u[0,0,0]"
   ]
  },
  {
   "cell_type": "code",
   "execution_count": 44,
   "metadata": {},
   "outputs": [
    {
     "data": {
      "text/plain": [
       "<xarray.DataArray 'u' (x: 3, y: 7)>\n",
       "array([[1.427041, 2.067956, 3.004833, 4.      , 4.995167, 5.932044, 6.572959],\n",
       "       [1.427041, 2.067956, 3.004833, 4.      , 4.995167, 5.932044, 6.572959],\n",
       "       [1.427041, 2.067956, 3.004833, 4.      , 4.995167, 5.932044, 6.572959]])\n",
       "Coordinates:\n",
       "  * x        (x) float64 32.0 64.0 96.0\n",
       "  * y        (y) float64 16.0 32.0 48.0 64.0 80.0 96.0 112.0\n",
       "    t        int64 4"
      ]
     },
     "execution_count": 44,
     "metadata": {},
     "output_type": "execute_result"
    }
   ],
   "source": [
    "tmp['u']= (['x','y'],gaussian_filter(tmp.u,1))\n",
    "tmp.u"
   ]
  },
  {
   "cell_type": "code",
   "execution_count": 45,
   "metadata": {},
   "outputs": [
    {
     "data": {
      "text/plain": [
       "<xarray.DataArray 'u' (x: 3, y: 7)>\n",
       "array([[1., 2., 3., 4., 5., 6., 7.],\n",
       "       [1., 2., 3., 4., 5., 6., 7.],\n",
       "       [1., 2., 3., 4., 5., 6., 7.]])\n",
       "Coordinates:\n",
       "  * x        (x) float64 32.0 64.0 96.0\n",
       "  * y        (y) float64 16.0 32.0 48.0 64.0 80.0 96.0 112.0\n",
       "    t        int64 4"
      ]
     },
     "execution_count": 45,
     "metadata": {},
     "output_type": "execute_result"
    }
   ],
   "source": [
    "tmp = ds.isel(t=-1)\n",
    "tmp.u"
   ]
  },
  {
   "cell_type": "code",
   "execution_count": 8,
   "metadata": {},
   "outputs": [
    {
     "data": {
      "text/plain": [
       "<xarray.Dataset>\n",
       "Dimensions:  (t: 5, x: 3, y: 7)\n",
       "Coordinates:\n",
       "  * x        (x) float64 32.0 64.0 96.0\n",
       "  * y        (y) float64 16.0 32.0 48.0 64.0 80.0 96.0 112.0\n",
       "  * t        (t) int64 0 1 2 3 4\n",
       "Data variables:\n",
       "    u        (x, y, t) float64 1.0 1.0 1.0 1.0 1.0 2.0 ... 7.0 7.0 7.0 7.0 7.0\n",
       "    v        (x, y, t) float64 0.02514 -0.499 0.07393 ... -0.3746 0.4407 0.03312\n",
       "    chc      (x, y, t) float64 1.0 1.0 1.0 1.0 1.0 1.0 ... 1.0 1.0 1.0 1.0 1.0\n",
       "Attributes:\n",
       "    variables:  ['x', 'y', 'u', 'v']\n",
       "    units:      ['pix', 'pix', 'pix/dt', 'pix/dt']\n",
       "    dt:         1.0\n",
       "    files:      "
      ]
     },
     "execution_count": 8,
     "metadata": {},
     "output_type": "execute_result"
    }
   ],
   "source": [
    "ds2.piv.spatial_filter(filter = 'gaussian',sigma=(1,1))"
   ]
  },
  {
   "cell_type": "code",
   "execution_count": null,
   "metadata": {},
   "outputs": [],
   "source": []
  },
  {
   "cell_type": "code",
   "execution_count": 9,
   "metadata": {},
   "outputs": [],
   "source": [
    "from scipy.ndimage.filters import median_filter"
   ]
  },
  {
   "cell_type": "code",
   "execution_count": 10,
   "metadata": {},
   "outputs": [
    {
     "data": {
      "text/plain": [
       "<xarray.Dataset>\n",
       "Dimensions:  (t: 5, x: 3, y: 7)\n",
       "Coordinates:\n",
       "  * x        (x) float64 32.0 64.0 96.0\n",
       "  * y        (y) float64 16.0 32.0 48.0 64.0 80.0 96.0 112.0\n",
       "  * t        (t) int64 0 1 2 3 4\n",
       "Data variables:\n",
       "    u        (x, y, t) float64 1.0 1.0 1.0 1.0 1.0 2.0 ... 7.0 7.0 7.0 7.0 7.0\n",
       "    v        (x, y, t) float64 0.02514 -0.499 0.07393 ... -0.3746 0.4407 0.03312\n",
       "    chc      (x, y, t) float64 1.0 1.0 1.0 1.0 1.0 1.0 ... 1.0 1.0 1.0 1.0 1.0\n",
       "Attributes:\n",
       "    variables:  ['x', 'y', 'u', 'v']\n",
       "    units:      ['pix', 'pix', 'pix/dt', 'pix/dt']\n",
       "    dt:         1.0\n",
       "    files:      "
      ]
     },
     "execution_count": 10,
     "metadata": {},
     "output_type": "execute_result"
    }
   ],
   "source": [
    "\n",
    "for t in ds['t']:\n",
    "    tmp = ds.sel(t=t)\n",
    "    tmp['u'] = xr.DataArray(median_filter(tmp['u'],size=(3,3)), dims=['x','y'])\n",
    "    tmp['v'] = xr.DataArray(median_filter(tmp['u'],size=(3,3)), dims=['x','y'])\n",
    "\n",
    "ds"
   ]
  },
  {
   "cell_type": "code",
   "execution_count": 11,
   "metadata": {},
   "outputs": [
    {
     "data": {
      "text/plain": [
       "<xarray.Dataset>\n",
       "Dimensions:  (t: 5, x: 3, y: 7)\n",
       "Coordinates:\n",
       "  * x        (x) float64 32.0 64.0 96.0\n",
       "  * y        (y) float64 16.0 32.0 48.0 64.0 80.0 96.0 112.0\n",
       "  * t        (t) int64 0 1 2 3 4\n",
       "Data variables:\n",
       "    u        (x, y, t) float64 1.0 1.0 1.0 1.0 1.0 2.0 ... 7.0 7.0 7.0 7.0 7.0\n",
       "    v        (x, y, t) float64 0.02514 -0.499 0.07393 ... -0.3746 0.4407 0.03312\n",
       "    chc      (x, y, t) float64 1.0 1.0 1.0 1.0 1.0 1.0 ... 1.0 1.0 1.0 1.0 1.0\n",
       "Attributes:\n",
       "    variables:  ['x', 'y', 'u', 'v']\n",
       "    units:      ['pix', 'pix', 'pix/dt', 'pix/dt']\n",
       "    dt:         1.0\n",
       "    files:      "
      ]
     },
     "execution_count": 11,
     "metadata": {},
     "output_type": "execute_result"
    }
   ],
   "source": [
    "ds2.piv.spatial_filter(filter='median',size=(3,3))"
   ]
  },
  {
   "cell_type": "code",
   "execution_count": 46,
   "metadata": {},
   "outputs": [
    {
     "data": {
      "text/plain": [
       "<xarray.Dataset>\n",
       "Dimensions:  (t: 5, x: 3, y: 7)\n",
       "Coordinates:\n",
       "  * x        (x) float64 32.0 64.0 96.0\n",
       "  * y        (y) float64 16.0 32.0 48.0 64.0 80.0 96.0 112.0\n",
       "  * t        (t) int64 0 1 2 3 4\n",
       "Data variables:\n",
       "    u        (x, y, t) float64 1.0 1.0 1.0 1.0 1.0 2.0 ... 7.0 7.0 7.0 7.0 7.0\n",
       "    v        (x, y, t) float64 0.02514 -0.499 0.07393 ... -0.3746 0.4407 0.03312\n",
       "    chc      (x, y, t) float64 1.0 1.0 1.0 1.0 1.0 1.0 ... 1.0 1.0 1.0 1.0 1.0\n",
       "Attributes:\n",
       "    variables:  ['x', 'y', 'u', 'v']\n",
       "    units:      ['pix', 'pix', 'pix/dt', 'pix/dt']\n",
       "    dt:         1.0\n",
       "    files:      "
      ]
     },
     "execution_count": 46,
     "metadata": {},
     "output_type": "execute_result"
    }
   ],
   "source": [
    "ds"
   ]
  },
  {
   "cell_type": "code",
   "execution_count": 47,
   "metadata": {},
   "outputs": [],
   "source": [
    "tmp = ds.isel(t=0)"
   ]
  },
  {
   "cell_type": "code",
   "execution_count": 48,
   "metadata": {},
   "outputs": [
    {
     "data": {
      "text/plain": [
       "<xarray.Dataset>\n",
       "Dimensions:  (x: 3, y: 7)\n",
       "Coordinates:\n",
       "  * x        (x) float64 32.0 64.0 96.0\n",
       "  * y        (y) float64 16.0 32.0 48.0 64.0 80.0 96.0 112.0\n",
       "    t        int64 0\n",
       "Data variables:\n",
       "    u        (x, y) float64 1.0 2.0 3.0 4.0 5.0 6.0 ... 2.0 3.0 4.0 5.0 6.0 7.0\n",
       "    v        (x, y) float64 0.02514 0.02514 0.02514 ... 0.2371 0.2371 0.2371\n",
       "    chc      (x, y) float64 1.0 1.0 1.0 1.0 1.0 1.0 ... 1.0 1.0 1.0 1.0 1.0 1.0\n",
       "Attributes:\n",
       "    variables:  ['x', 'y', 'u', 'v']\n",
       "    units:      ['pix', 'pix', 'pix/dt', 'pix/dt']\n",
       "    dt:         1.0\n",
       "    files:      "
      ]
     },
     "execution_count": 48,
     "metadata": {},
     "output_type": "execute_result"
    }
   ],
   "source": [
    "tmp"
   ]
  },
  {
   "cell_type": "code",
   "execution_count": 52,
   "metadata": {},
   "outputs": [],
   "source": [
    "tmp.u[0,0]=2"
   ]
  },
  {
   "cell_type": "code",
   "execution_count": 54,
   "metadata": {},
   "outputs": [
    {
     "data": {
      "text/plain": [
       "<xarray.Dataset>\n",
       "Dimensions:  (x: 3, y: 7)\n",
       "Coordinates:\n",
       "  * x        (x) float64 32.0 64.0 96.0\n",
       "  * y        (y) float64 16.0 32.0 48.0 64.0 80.0 96.0 112.0\n",
       "    t        int64 0\n",
       "Data variables:\n",
       "    u        (x, y) float64 2.0 2.0 3.0 4.0 5.0 6.0 ... 2.0 3.0 4.0 5.0 6.0 7.0\n",
       "    v        (x, y) float64 0.02514 0.02514 0.02514 ... 0.2371 0.2371 0.2371\n",
       "    chc      (x, y) float64 1.0 1.0 1.0 1.0 1.0 1.0 ... 1.0 1.0 1.0 1.0 1.0 1.0\n",
       "Attributes:\n",
       "    variables:  ['x', 'y', 'u', 'v']\n",
       "    units:      ['pix', 'pix', 'pix/dt', 'pix/dt']\n",
       "    dt:         1.0\n",
       "    files:      "
      ]
     },
     "execution_count": 54,
     "metadata": {},
     "output_type": "execute_result"
    }
   ],
   "source": [
    "tmp"
   ]
  },
  {
   "cell_type": "code",
   "execution_count": 56,
   "metadata": {},
   "outputs": [
    {
     "data": {
      "text/plain": [
       "<xarray.Dataset>\n",
       "Dimensions:  (x: 3, y: 7)\n",
       "Coordinates:\n",
       "  * x        (x) float64 32.0 64.0 96.0\n",
       "  * y        (y) float64 16.0 32.0 48.0 64.0 80.0 96.0 112.0\n",
       "    t        int64 0\n",
       "Data variables:\n",
       "    u        (x, y) float64 2.0 2.0 3.0 4.0 5.0 6.0 ... 2.0 3.0 4.0 5.0 6.0 7.0\n",
       "    v        (x, y) float64 0.02514 0.02514 0.02514 ... 0.2371 0.2371 0.2371\n",
       "    chc      (x, y) float64 1.0 1.0 1.0 1.0 1.0 1.0 ... 1.0 1.0 1.0 1.0 1.0 1.0\n",
       "Attributes:\n",
       "    variables:  ['x', 'y', 'u', 'v']\n",
       "    units:      ['pix', 'pix', 'pix/dt', 'pix/dt']\n",
       "    dt:         1.0\n",
       "    files:      "
      ]
     },
     "execution_count": 56,
     "metadata": {},
     "output_type": "execute_result"
    }
   ],
   "source": [
    "ds.isel(t=0)"
   ]
  },
  {
   "cell_type": "code",
   "execution_count": 57,
   "metadata": {},
   "outputs": [
    {
     "data": {
      "text/plain": [
       "<xarray.Dataset>\n",
       "Dimensions:  (t: 5, x: 3, y: 7)\n",
       "Coordinates:\n",
       "  * x        (x) float64 32.0 64.0 96.0\n",
       "  * y        (y) float64 16.0 32.0 48.0 64.0 80.0 96.0 112.0\n",
       "  * t        (t) int64 0 1 2 3 4\n",
       "Data variables:\n",
       "    u        (x, y, t) float64 2.0 1.0 1.0 1.0 1.0 2.0 ... 7.0 7.0 7.0 7.0 7.0\n",
       "    v        (x, y, t) float64 0.02514 -0.499 0.07393 ... -0.3746 0.4407 0.03312\n",
       "    chc      (x, y, t) float64 1.0 1.0 1.0 1.0 1.0 1.0 ... 1.0 1.0 1.0 1.0 1.0\n",
       "Attributes:\n",
       "    variables:  ['x', 'y', 'u', 'v']\n",
       "    units:      ['pix', 'pix', 'pix/dt', 'pix/dt']\n",
       "    dt:         1.0\n",
       "    files:      "
      ]
     },
     "execution_count": 57,
     "metadata": {},
     "output_type": "execute_result"
    }
   ],
   "source": [
    "ds"
   ]
  },
  {
   "cell_type": "code",
   "execution_count": null,
   "metadata": {},
   "outputs": [],
   "source": []
  }
 ],
 "metadata": {
  "kernelspec": {
   "display_name": "pivpy",
   "language": "python",
   "name": "pivpy"
  },
  "language_info": {
   "codemirror_mode": {
    "name": "ipython",
    "version": 3
   },
   "file_extension": ".py",
   "mimetype": "text/x-python",
   "name": "python",
   "nbconvert_exporter": "python",
   "pygments_lexer": "ipython3",
   "version": "3.6.8"
  }
 },
 "nbformat": 4,
 "nbformat_minor": 2
}
