{
 "cells": [
  {
   "cell_type": "code",
   "execution_count": 4,
   "metadata": {},
   "outputs": [],
   "source": [
    "# parsing header of Insight VEC files"
   ]
  },
  {
   "cell_type": "code",
   "execution_count": 12,
   "metadata": {},
   "outputs": [],
   "source": [
    "import numpy as np\n"
   ]
  },
  {
   "cell_type": "code",
   "execution_count": 13,
   "metadata": {},
   "outputs": [],
   "source": [
    "with open('pivpy\\data\\Insight\\Run000001.T000.D000.P000.H001.L.vec') as f:\n",
    "    header = f.readline()"
   ]
  },
  {
   "cell_type": "code",
   "execution_count": 15,
   "metadata": {},
   "outputs": [
    {
     "name": "stdout",
     "output_type": "stream",
     "text": [
      "TITLE=\"E:\\2CM_FP500_5%G_68K\\C001H001S0015CC\\Soapfilmone\\Analysis\\Run000001.T000.D000.P000.H001.L.vec\" VARIABLES=\"X mm\", \"Y mm\", \"U m/s\", \"V m/s\", \"CHC\", DATASETAUXDATA Application=\"PIV\" DATASETAUXDATA SourceImageWidth=\"1024\" DATASETAUXDATA SourceImageHeight=\"1024\" DATASETAUXDATA MicrometersPerPixelX=\"19.530001\" DATASETAUXDATA MicrometersPerPixelY=\"19.530001\" DATASETAUXDATA LengthUnit=\"mm\" DATASETAUXDATA OriginInImageX=\"0.000000\" DATASETAUXDATA OriginInImageY=\"0.000000\" DATASETAUXDATA MicrosecondsPerDeltaT=\"2000.000000\" DATASETAUXDATA TimeUnit=\"ms\" DATASETAUXDATA SecondaryPeakNumber=\"0\" DATASETAUXDATA DewarpedImageSource=\"0\" ZONE I=63, J=63, F=POINT\n",
      "\n"
     ]
    }
   ],
   "source": [
    "print(header)"
   ]
  },
  {
   "cell_type": "code",
   "execution_count": 65,
   "metadata": {},
   "outputs": [
    {
     "data": {
      "text/plain": [
       "(63, 63)"
      ]
     },
     "execution_count": 65,
     "metadata": {},
     "output_type": "execute_result"
    }
   ],
   "source": [
    "IJ = re.findall(r\"ZONE\\sI=(\\d.),\\sJ=(\\d.)\", header)[0]\n",
    "I,J = IJ\n",
    "I = int(I)\n",
    "J = int(J)\n",
    "I,J"
   ]
  },
  {
   "cell_type": "code",
   "execution_count": 66,
   "metadata": {},
   "outputs": [
    {
     "data": {
      "text/plain": [
       "['\"X mm\", \"Y mm\", \"U m/s\", \"V m/s\", \"CHC\",']"
      ]
     },
     "execution_count": 66,
     "metadata": {},
     "output_type": "execute_result"
    }
   ],
   "source": [
    "variables = re.findall(r\"VARIABLES=(.*?)\\sDATA\", header)\n",
    "variables"
   ]
  },
  {
   "cell_type": "code",
   "execution_count": 25,
   "metadata": {},
   "outputs": [
    {
     "name": "stdout",
     "output_type": "stream",
     "text": [
      "['DATASETAUXDATA Application=\"PIV\"', 'DATASETAUXDATA SourceImageWidth=\"1024\"', 'DATASETAUXDATA SourceImageHeight=\"1024\"', 'DATASETAUXDATA MicrometersPerPixelX=\"19.530001\"', 'DATASETAUXDATA MicrometersPerPixelY=\"19.530001\"', 'DATASETAUXDATA LengthUnit=\"mm\"', 'DATASETAUXDATA OriginInImageX=\"0.000000\"', 'DATASETAUXDATA OriginInImageY=\"0.000000\"', 'DATASETAUXDATA MicrosecondsPerDeltaT=\"2000.000000\"', 'DATASETAUXDATA TimeUnit=\"ms\"', 'DATASETAUXDATA SecondaryPeakNumber=\"0\"', 'DATASETAUXDATA DewarpedImageSource=\"0\"']\n"
     ]
    }
   ],
   "source": [
    "# thanks to Stackoverflow\n",
    "# \n",
    "import re\n",
    "\n",
    "text=\"\"\"\n",
    "TITLE=\"D:\\Experiments2021\\iai_0107_\\exp1_\\Analysis\\exp1_006014.T000.D000.P001.H000.L.vec\" VARIABLES=\"X mm\", \"Y mm\", \"U m/s\", \"V m/s\", \"CHC\", DATASETAUXDATA Application=\"PIV\" DATASETAUXDATA SourceImageWidth=\"4008\" DATASETAUXDATA SourceImageHeight=\"2672\" DATASETAUXDATA MicrometersPerPixelX=\"85.809998\" DATASETAUXDATA MicrometersPerPixelY=\"85.809998\" DATASETAUXDATA LengthUnit=\"mm\" DATASETAUXDATA OriginInImageX=\"0.000000\" DATASETAUXDATA OriginInImageY=\"0.000000\" DATASETAUXDATA MicrosecondsPerDeltaT=\"50.000000\" DATASETAUXDATA TimeUnit=\"ms\" DATASETAUXDATA SecondaryPeakNumber=\"0\" DATASETAUXDATA DewarpedImageSource=\"0\" ZONE I=124, J=82, F=POINT\n",
    "\"\"\"\n",
    "\n",
    "result = re.findall(r\"DATASETAUXDATA \\w+=\\\"[\\w\\.]+\\\"\", header)\n",
    "print(result)"
   ]
  },
  {
   "cell_type": "code",
   "execution_count": 67,
   "metadata": {},
   "outputs": [
    {
     "name": "stdout",
     "output_type": "stream",
     "text": [
      "{'Application': 'PIV', 'SourceImageWidth': '1024', 'SourceImageHeight': '1024', 'MicrometersPerPixelX': '19.530001', 'MicrometersPerPixelY': '19.530001', 'LengthUnit': 'mm', 'OriginInImageX': '0.000000', 'OriginInImageY': '0.000000', 'MicrosecondsPerDeltaT': '2000.000000', 'TimeUnit': 'ms', 'SecondaryPeakNumber': '0', 'DewarpedImageSource': '0'}\n"
     ]
    }
   ],
   "source": [
    "dict = {}\n",
    "\n",
    "for item in result:\n",
    "    pair = item.replace(\"DATASETAUXDATA \", \"\")\n",
    "    key_value = pair.split(\"=\")\n",
    "    dict[key_value[0]] = key_value[1].replace(\"\\\"\", \"\")\n",
    "\n",
    "print(dict)"
   ]
  },
  {
   "cell_type": "code",
   "execution_count": 68,
   "metadata": {},
   "outputs": [
    {
     "name": "stdout",
     "output_type": "stream",
     "text": [
      "Application PIV\n",
      "SourceImageWidth 1024\n",
      "SourceImageHeight 1024\n",
      "MicrometersPerPixelX 19.530001\n",
      "MicrometersPerPixelY 19.530001\n",
      "LengthUnit mm\n",
      "OriginInImageX 0.000000\n",
      "OriginInImageY 0.000000\n",
      "MicrosecondsPerDeltaT 2000.000000\n",
      "TimeUnit ms\n",
      "SecondaryPeakNumber 0\n",
      "DewarpedImageSource 0\n"
     ]
    }
   ],
   "source": [
    "for k,v in dict.items():\n",
    "    print(k,v)"
   ]
  }
 ],
 "metadata": {
  "interpreter": {
   "hash": "0db4b1a287a22f802de1e936efd8a6c8e1638a2464a4b65f50bc92c46fe44efb"
  },
  "kernelspec": {
   "display_name": "Python 3.9.7 ('pivpy')",
   "language": "python",
   "name": "python3"
  },
  "language_info": {
   "codemirror_mode": {
    "name": "ipython",
    "version": 3
   },
   "file_extension": ".py",
   "mimetype": "text/x-python",
   "name": "python",
   "nbconvert_exporter": "python",
   "pygments_lexer": "ipython3",
   "version": "3.9.7"
  },
  "orig_nbformat": 4
 },
 "nbformat": 4,
 "nbformat_minor": 2
}
