{
 "cells": [
  {
   "cell_type": "code",
   "execution_count": null,
   "metadata": {},
   "outputs": [],
   "source": [
    "import pathlib\n",
    "import numpy as np\n",
    "import matplotlib.pyplot as plt\n",
    "from pivpy import io, pivpy, graphics"
   ]
  },
  {
   "cell_type": "code",
   "execution_count": null,
   "metadata": {},
   "outputs": [],
   "source": [
    "fieldsDir = pathlib.Path('../../pivpy/data/openpiv_txt/Gamma1_Gamma2_tutorial_notebook')"
   ]
  },
  {
   "cell_type": "code",
   "execution_count": null,
   "metadata": {},
   "outputs": [],
   "source": [
    "# Global variables\n",
    "n = 4"
   ]
  },
  {
   "cell_type": "code",
   "execution_count": null,
   "metadata": {},
   "outputs": [],
   "source": [
    "dataBaseXarray = io.load_directory(\n",
    "    path = fieldsDir,\n",
    "    basename = \"OpenPIVtxtFilePair?\",\n",
    "    ext = \".txt\"\n",
    ")"
   ]
  },
  {
   "cell_type": "code",
   "execution_count": null,
   "metadata": {},
   "outputs": [],
   "source": [
    "dataBaseXarray.piv.Γ1(n, convCoords=True)"
   ]
  },
  {
   "cell_type": "code",
   "execution_count": null,
   "metadata": {},
   "outputs": [],
   "source": [
    "dataBaseXarray.piv.Γ2(n, convCoords=False) # False, because the coordinates have already been converted\n",
    "                                           # at the previous line"
   ]
  },
  {
   "cell_type": "code",
   "execution_count": null,
   "metadata": {},
   "outputs": [],
   "source": [
    "# Plot Γ1 and Γ2 fields.\n",
    "for i in range(dataBaseXarray.coords['t'].values.size):\n",
    "    levelsΓ1 = np.linspace(np.min(dataBaseXarray['Γ1'].isel(t=i).values), np.max(dataBaseXarray['Γ1'].isel(t=i).values), 1000) \n",
    "    levelsΓ2 = np.linspace(np.min(dataBaseXarray['Γ2'].isel(t=i).values), np.max(dataBaseXarray['Γ2'].isel(t=i).values), 1000)  \n",
    "    figΓ, axΓ = plt.subplots(nrows=1, ncols=2, clear=True, num=\"figGamma\", figsize=(15,10))\n",
    "    dataBaseXarray['Γ1'].isel(t=i).plot.contourf(x=\"x\",\n",
    "                                                 y=\"y\",\n",
    "                                                 levels=levelsΓ1,\n",
    "                                                 cmap=plt.get_cmap(\"RdYlBu\"),\n",
    "                                                 ax=axΓ[0]\n",
    "    ) # Jupiter notebook shows the plot automatically\n",
    "    dataBaseXarray['Γ2'].isel(t=i).plot.contourf(x=\"x\",\n",
    "                                                 y=\"y\",\n",
    "                                                 levels=levelsΓ2,\n",
    "                                                 cmap=plt.get_cmap(\"RdYlBu\"),\n",
    "                                                 ax=axΓ[1]\n",
    "    ) # Jupiter notebook shows the plot automatically"
   ]
  }
 ],
 "metadata": {
  "kernelspec": {
   "display_name": "PIVPY_development",
   "language": "python",
   "name": "python3"
  },
  "language_info": {
   "codemirror_mode": {
    "name": "ipython",
    "version": 3
   },
   "file_extension": ".py",
   "mimetype": "text/x-python",
   "name": "python",
   "nbconvert_exporter": "python",
   "pygments_lexer": "ipython3",
   "version": "3.11.2"
  }
 },
 "nbformat": 4,
 "nbformat_minor": 2
}
