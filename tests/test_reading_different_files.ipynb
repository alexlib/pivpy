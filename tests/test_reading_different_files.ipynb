{
 "cells": [
  {
   "cell_type": "code",
   "execution_count": 1,
   "metadata": {},
   "outputs": [],
   "source": [
    "from pivpy import io, pivpy, graphics"
   ]
  },
  {
   "cell_type": "code",
   "execution_count": 2,
   "metadata": {},
   "outputs": [],
   "source": [
    "import xarray as xr\n",
    "from typing import List \n",
    "import numpy as np\n",
    "import pandas as pd"
   ]
  },
  {
   "cell_type": "code",
   "execution_count": 3,
   "metadata": {},
   "outputs": [
    {
     "name": "stdout",
     "output_type": "stream",
     "text": [
      "../pivpy/data/Insight/Run000001.T000.D000.P000.H001.L.vec\n",
      "../pivpy/data/PIV_Challenge/B00001.txt\n",
      "../pivpy/data/VC7/2d2c/2Ca.vc7\n",
      "../pivpy/data/VC7/2d2c/2Ca.vc7\n",
      "../pivpy/data/VC7/2d3c/3C.VC7\n",
      "../pivpy/data/day2/day2a005000.T000.D000.P003.H001.L.vec\n",
      "../pivpy/data/openpiv/exp1_001_b.txt\n",
      "../pivpy/data/urban_canopy/B00001.vc7\n"
     ]
    }
   ],
   "source": [
    "import pathlib\n",
    "\n",
    "path = pathlib.Path('../pivpy/data')\n",
    "subdirs = [x for x in sorted(path.glob('**/*')) if x.is_dir()]\n",
    "\n",
    "# sorted(dirs[0].rglob('[!.]*'))\n",
    "test_files = []\n",
    "for d in subdirs:\n",
    "    files = [x for x in sorted(d.rglob('[!.]*')) if not x.is_dir() ]\n",
    "    print(files[0])\n",
    "    test_files.append(files[0])"
   ]
  },
  {
   "cell_type": "code",
   "execution_count": 7,
   "metadata": {},
   "outputs": [
    {
     "name": "stdout",
     "output_type": "stream",
     "text": [
      "../pivpy/data/Insight/Run000001.T000.D000.P000.H001.L.vec\n",
      "<xarray.Dataset>\n",
      "Dimensions:  (x: 5, y: 5, t: 1)\n",
      "Coordinates:\n",
      "  * x        (x) float64 0.3125 0.625 0.9374 1.25 1.562\n",
      "  * y        (y) float64 -0.3125 -0.625 -0.9374 -1.25 -1.562\n",
      "  * t        (t) int64 1\n",
      "Data variables:\n",
      "    u        (y, x, t) float64 0.0 0.0 0.0 0.0 ... 0.0114 0.01199 0.01614\n",
      "    v        (y, x, t) float64 -0.0 -0.0 -0.0 ... 0.006607 0.006389 0.004362\n",
      "    chc      (y, x, t) float64 -1.0 -1.0 -1.0 -1.0 -1.0 ... 1.0 1.0 1.0 1.0 1.0\n",
      "Attributes: (2)\n",
      "../pivpy/data/PIV_Challenge/B00001.txt\n",
      "<xarray.Dataset>\n",
      "Dimensions:  (x: 5, y: 5, t: 1)\n",
      "Coordinates:\n",
      "  * x        (x) float64 -14.96 -14.34 -13.72 -13.1 -12.48\n",
      "  * y        (y) float64 32.41 31.79 31.17 30.55 29.93\n",
      "  * t        (t) int64 0\n",
      "Data variables:\n",
      "    u        (y, x, t) float64 0.0 0.0 0.0 0.0 0.0 0.0 ... 0.0 0.0 0.0 0.0 0.0\n",
      "    v        (y, x, t) float64 -0.0 -0.0 -0.0 -0.0 -0.0 ... -0.0 -0.0 -0.0 -0.0\n",
      "    chc      (y, x, t) float64 1.0 1.0 1.0 1.0 1.0 1.0 ... 1.0 1.0 1.0 1.0 1.0\n",
      "Attributes: (2)\n",
      "../pivpy/data/VC7/2d2c/2Ca.vc7\n",
      "<xarray.Dataset>\n",
      "Dimensions:  (x: 5, y: 5, t: 1)\n",
      "Coordinates:\n",
      "  * x        (x) float64 -143.6 -137.6 -131.6 -125.6 -119.5\n",
      "  * y        (y) float64 -72.15 -78.16 -84.18 -90.2 -96.21\n",
      "  * t        (t) int64 0\n",
      "Data variables:\n",
      "    u        (y, x, t) float32 -0.04905 -0.2154 -0.03318 ... -0.0633 -0.04772\n",
      "    v        (y, x, t) float32 -0.07665 0.05554 -0.071 ... -0.07599 -0.07755\n",
      "    chc      (y, x, t) bool False False False False ... False False False False\n",
      "Attributes: (2)\n",
      "../pivpy/data/VC7/2d2c/2Ca.vc7\n",
      "<xarray.Dataset>\n",
      "Dimensions:  (x: 5, y: 5, t: 1)\n",
      "Coordinates:\n",
      "  * x        (x) float64 -143.6 -137.6 -131.6 -125.6 -119.5\n",
      "  * y        (y) float64 -72.15 -78.16 -84.18 -90.2 -96.21\n",
      "  * t        (t) int64 0\n",
      "Data variables:\n",
      "    u        (y, x, t) float32 -0.04905 -0.2154 -0.03318 ... -0.0633 -0.04772\n",
      "    v        (y, x, t) float32 -0.07665 0.05554 -0.071 ... -0.07599 -0.07755\n",
      "    chc      (y, x, t) bool False False False False ... False False False False\n",
      "Attributes: (2)\n",
      "../pivpy/data/VC7/2d3c/3C.VC7\n",
      "<xarray.Dataset>\n",
      "Dimensions:  (x: 5, y: 5, t: 1)\n",
      "Coordinates:\n",
      "  * x        (x) float64 -28.27 -26.76 -25.26 -23.75 -22.25\n",
      "  * y        (y) float64 16.47 14.97 13.46 11.96 10.45\n",
      "  * t        (t) int64 0\n",
      "Data variables:\n",
      "    u        (y, x, t) float32 0.0 -0.1419 -0.1529 ... -0.1474 -0.1682 -0.1742\n",
      "    v        (y, x, t) float32 0.0 -0.1474 -0.1471 ... -0.1425 -0.155 -0.1663\n",
      "    chc      (y, x, t) bool True False False False ... False False False False\n",
      "Attributes: (2)\n",
      "../pivpy/data/day2/day2a005000.T000.D000.P003.H001.L.vec\n",
      "<xarray.Dataset>\n",
      "Dimensions:  (x: 5, y: 5, t: 1)\n",
      "Coordinates:\n",
      "  * x        (x) float64 1.539e+03 1.571e+03 1.603e+03 1.635e+03 1.667e+03\n",
      "  * y        (y) float64 1.546e+03 1.514e+03 1.482e+03 1.45e+03 1.418e+03\n",
      "  * t        (t) int64 5000\n",
      "Data variables:\n",
      "    u        (y, x, t) float64 0.0 -0.04101 0.009975 ... 0.008156 -0.11 -0.3161\n",
      "    v        (y, x, t) float64 -0.03755 -0.01308 0.0165 ... 0.04238 -0.067\n",
      "    chc      (y, x, t) float64 -1.0 -1.0 -1.0 -1.0 -1.0 ... 1.0 1.0 1.0 1.0 1.0\n",
      "Attributes: (2)\n",
      "../pivpy/data/openpiv/exp1_001_b.txt\n",
      "<xarray.Dataset>\n",
      "Dimensions:  (x: 5, y: 5, t: 1)\n",
      "Coordinates:\n",
      "  * x        (x) float64 16.0 32.0 48.0 64.0 80.0\n",
      "  * y        (y) float64 16.0 32.0 48.0 64.0 80.0\n",
      "  * t        (t) int64 0\n",
      "Data variables:\n",
      "    u        (x, y, t) float64 -0.266 0.0064 -0.4655 ... 0.0786 -0.1637 -0.0378\n",
      "    v        (x, y, t) float64 0.0 5.225 5.202 5.059 ... 6.129 6.229 6.176 5.453\n",
      "    chc      (x, y, t) float64 51.12 50.89 58.25 59.52 ... 59.79 52.26 50.1\n",
      "Attributes: (2)\n",
      "../pivpy/data/urban_canopy/B00001.vc7\n",
      "<xarray.Dataset>\n",
      "Dimensions:  (x: 5, y: 5, t: 1)\n",
      "Coordinates:\n",
      "  * x        (x) float64 -76.45 -75.16 -73.87 -72.58 -71.29\n",
      "  * y        (y) float64 176.8 175.5 174.2 172.9 171.6\n",
      "  * t        (t) int64 0\n",
      "Data variables:\n",
      "    u        (y, x, t) float32 0.0 0.0 0.0 0.0 ... -2.452 -2.573 -2.647 -2.77\n",
      "    v        (y, x, t) float32 0.0 0.0 0.0 0.0 ... -2.292 -1.695 -1.755 -1.868\n",
      "    chc      (y, x, t) bool True False False False ... False False False False\n",
      "Attributes: (2)\n"
     ]
    }
   ],
   "source": [
    "from pivpy.io import *\n",
    "\n",
    "for file in test_files:\n",
    "    print(file)\n",
    "    variables, units, rows, cols, dt, frame, method = parse_header(file)\n",
    "    ds = method(file)\n",
    "    print(ds.head())\n"
   ]
  },
  {
   "cell_type": "code",
   "execution_count": null,
   "metadata": {},
   "outputs": [],
   "source": []
  }
 ],
 "metadata": {
  "kernelspec": {
   "display_name": "Python 3.8.12 64-bit",
   "language": "python",
   "name": "python3"
  },
  "language_info": {
   "codemirror_mode": {
    "name": "ipython",
    "version": 3
   },
   "file_extension": ".py",
   "mimetype": "text/x-python",
   "name": "python",
   "nbconvert_exporter": "python",
   "pygments_lexer": "ipython3",
   "version": "3.8.12"
  },
  "orig_nbformat": 4,
  "vscode": {
   "interpreter": {
    "hash": "cc9f4a0bb10ffa66460a048df631f1f9f016c2b1c927bb3119f96382f3a023b9"
   }
  }
 },
 "nbformat": 4,
 "nbformat_minor": 2
}
