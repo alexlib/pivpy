{
 "cells": [
  {
   "cell_type": "code",
   "execution_count": null,
   "metadata": {},
   "outputs": [],
   "source": [
    "from pivpy import io, pivpy, graphics"
   ]
  },
  {
   "cell_type": "code",
   "execution_count": null,
   "metadata": {},
   "outputs": [],
   "source": [
    "import xarray as xr\n",
    "from typing import List \n",
    "import numpy as np\n",
    "import pandas as pd\n",
    "import pkg_resources as pkg\n",
    "import matplotlib.pyplot as plt\n",
    "%matplotlib inline\n"
   ]
  },
  {
   "cell_type": "code",
   "execution_count": null,
   "metadata": {},
   "outputs": [],
   "source": [
    "import pathlib\n",
    "\n",
    "path = pathlib.Path(pkg.resource_filename(\"pivpy\", \"data\"))\n",
    "subdirs = [x for x in sorted(path.glob('**/*')) if x.is_dir()]\n",
    "subdirs = [s for s in subdirs if s.stem != '.ipynb_checkpoints']\n",
    "\n",
    "test_files = []\n",
    "for d in subdirs:\n",
    "    files = [x for x in sorted(d.glob('[!.]*')) if not x.is_dir() ]\n",
    "    test_files.append(files[0])\n",
    "    \n",
    "print(test_files)"
   ]
  },
  {
   "cell_type": "code",
   "execution_count": null,
   "metadata": {},
   "outputs": [],
   "source": [
    "from pivpy.io import *\n",
    "\n",
    "for file in test_files:\n",
    "     #print(file)\n",
    "    # print(file.stem)\n",
    "    variables, units, rows, cols, dt, frame, method = parse_header(file)\n",
    "    # print(f'frame = {frame}')\n",
    "    print(file.stem, method)\n",
    "    ds = method(file)\n",
    "    plt.figure()\n",
    "    ds.isel(t=0).piv.quiver(arrScale=5)\n",
    "    plt.title(file.stem)\n",
    "    \n",
    "    \n",
    "    if file.suffix == '.vec':\n",
    "        try:\n",
    "            # try another method\n",
    "            ds = load_insight_vec_as_csv(file)\n",
    "            plt.figure()\n",
    "            ds.isel(t=0).piv.quiver(arrScale=5)\n",
    "            plt.title(file.stem)\n",
    "        except:\n",
    "            pass\n",
    "    elif file.suffix == '.txt':\n",
    "        try:\n",
    "            ds  = load_openpiv_txt_as_csv(file)\n",
    "            plt.figure()\n",
    "            ds.isel(t=0).piv.quiver(arrScale=5)\n",
    "            plt.title(file.stem)\n",
    "        except:\n",
    "            pass\n"
   ]
  }
 ],
 "metadata": {
  "kernelspec": {
   "display_name": "Python 3 (ipykernel)",
   "language": "python",
   "name": "python3"
  },
  "language_info": {
   "codemirror_mode": {
    "name": "ipython",
    "version": 3
   },
   "file_extension": ".py",
   "mimetype": "text/x-python",
   "name": "python",
   "nbconvert_exporter": "python",
   "pygments_lexer": "ipython3",
   "version": "3.8.12"
  },
  "vscode": {
   "interpreter": {
    "hash": "cc9f4a0bb10ffa66460a048df631f1f9f016c2b1c927bb3119f96382f3a023b9"
   }
  }
 },
 "nbformat": 4,
 "nbformat_minor": 4
}
