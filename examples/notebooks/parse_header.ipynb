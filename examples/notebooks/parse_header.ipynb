{
 "cells": [
  {
   "cell_type": "code",
   "execution_count": 9,
   "metadata": {},
   "outputs": [],
   "source": [
    "import re\n",
    "from typing import Dict, Tuple\n",
    "\n",
    "\n"
   ]
  },
  {
   "cell_type": "code",
   "execution_count": 10,
   "metadata": {},
   "outputs": [],
   "source": [
    "\n",
    "def datasetauxdata_to_dict(text: str) -> Dict:\n",
    "    result = re.findall(r\"DATASETAUXDATA \\w+=\\\"[\\w\\.]+\\\"\", text)\n",
    "    dict = {}\n",
    "\n",
    "    for item in result:\n",
    "        pair = item.replace(\"DATASETAUXDATA \", \"\")\n",
    "        key_value = pair.split(\"=\")\n",
    "        dict[key_value[0]] = key_value[1].replace(\"\\\"\", \"\")\n",
    "\n",
    "    # print(dict)\n",
    "    return dict\n",
    "\n"
   ]
  },
  {
   "cell_type": "code",
   "execution_count": 11,
   "metadata": {},
   "outputs": [
    {
     "data": {
      "text/plain": [
       "{'Application': 'PIV',\n",
       " 'SourceImageWidth': '4008',\n",
       " 'SourceImageHeight': '2672',\n",
       " 'MicrometersPerPixelX': '85.809998',\n",
       " 'MicrometersPerPixelY': '85.809998',\n",
       " 'LengthUnit': 'mm',\n",
       " 'OriginInImageX': '0.000000',\n",
       " 'OriginInImageY': '0.000000',\n",
       " 'MicrosecondsPerDeltaT': '50.000000',\n",
       " 'TimeUnit': 'ms',\n",
       " 'SecondaryPeakNumber': '0',\n",
       " 'DewarpedImageSource': '0'}"
      ]
     },
     "execution_count": 11,
     "metadata": {},
     "output_type": "execute_result"
    }
   ],
   "source": [
    "text=\"\"\"\n",
    "TITLE=\"D:\\Experiments2021\\iai_0107_\\exp1_\\Analysis\\exp1_006014.T000.D000.P001.H000.L.vec\" VARIABLES=\"X mm\", \"Y mm\", \"U m/s\", \"V m/s\", \"CHC\", DATASETAUXDATA Application=\"PIV\" DATASETAUXDATA SourceImageWidth=\"4008\" DATASETAUXDATA SourceImageHeight=\"2672\" DATASETAUXDATA MicrometersPerPixelX=\"85.809998\" DATASETAUXDATA MicrometersPerPixelY=\"85.809998\" DATASETAUXDATA LengthUnit=\"mm\" DATASETAUXDATA OriginInImageX=\"0.000000\" DATASETAUXDATA OriginInImageY=\"0.000000\" DATASETAUXDATA MicrosecondsPerDeltaT=\"50.000000\" DATASETAUXDATA TimeUnit=\"ms\" DATASETAUXDATA SecondaryPeakNumber=\"0\" DATASETAUXDATA DewarpedImageSource=\"0\" ZONE I=124, J=82, F=POINT\n",
    "\"\"\"\n",
    "\n",
    "datasetauxdata_to_dict(text)"
   ]
  },
  {
   "cell_type": "code",
   "execution_count": 12,
   "metadata": {},
   "outputs": [],
   "source": [
    "import pathlib\n",
    "file = pathlib.Path('../../pivpy/data/Insight/Run000001.T000.D000.P000.H001.L.vec')"
   ]
  },
  {
   "cell_type": "code",
   "execution_count": 13,
   "metadata": {},
   "outputs": [
    {
     "name": "stdout",
     "output_type": "stream",
     "text": [
      "TITLE=\"E:\\2CM_FP500_5%G_68K\\C001H001S0015CC\\Soapfilmone\\Analysis\\Run000001.T000.D000.P000.H001.L.vec\" VARIABLES=\"X mm\", \"Y mm\", \"U m/s\", \"V m/s\", \"CHC\", DATASETAUXDATA Application=\"PIV\" DATASETAUXDATA SourceImageWidth=\"1024\" DATASETAUXDATA SourceImageHeight=\"1024\" DATASETAUXDATA MicrometersPerPixelX=\"19.530001\" DATASETAUXDATA MicrometersPerPixelY=\"19.530001\" DATASETAUXDATA LengthUnit=\"mm\" DATASETAUXDATA OriginInImageX=\"0.000000\" DATASETAUXDATA OriginInImageY=\"0.000000\" DATASETAUXDATA MicrosecondsPerDeltaT=\"2000.000000\" DATASETAUXDATA TimeUnit=\"ms\" DATASETAUXDATA SecondaryPeakNumber=\"0\" DATASETAUXDATA DewarpedImageSource=\"0\" ZONE I=63, J=63, F=POINT\n",
      "\n"
     ]
    },
    {
     "data": {
      "text/plain": [
       "{'Application': 'PIV',\n",
       " 'SourceImageWidth': '1024',\n",
       " 'SourceImageHeight': '1024',\n",
       " 'MicrometersPerPixelX': '19.530001',\n",
       " 'MicrometersPerPixelY': '19.530001',\n",
       " 'LengthUnit': 'mm',\n",
       " 'OriginInImageX': '0.000000',\n",
       " 'OriginInImageY': '0.000000',\n",
       " 'MicrosecondsPerDeltaT': '2000.000000',\n",
       " 'TimeUnit': 'ms',\n",
       " 'SecondaryPeakNumber': '0',\n",
       " 'DewarpedImageSource': '0'}"
      ]
     },
     "execution_count": 13,
     "metadata": {},
     "output_type": "execute_result"
    }
   ],
   "source": [
    "with open(file, \"r\") as f:\n",
    "    header = f.readline()\n",
    "\n",
    "print(header)\n",
    "\n",
    "datasetauxdata_to_dict(header)"
   ]
  },
  {
   "cell_type": "code",
   "execution_count": 14,
   "metadata": {},
   "outputs": [],
   "source": [
    "def parse_header(filename: pathlib.Path)-> Tuple:\n",
    "    \"\"\"\n",
    "    parse_header ( filename)\n",
    "    Parses header of the file (.vec) to get the variables (typically X,Y,U,V)\n",
    "    and units (can be m,mm, pix/DELTA_T or mm/sec, etc.), and the size of the\n",
    "    Dataset by the number of rows and columns.\n",
    "    Input:\n",
    "        filename : complete path of the file to read, pathlib.Path\n",
    "    Returns:\n",
    "        variables : list of strings\n",
    "        units : list of strings\n",
    "        rows : number of rows of the Dataset\n",
    "        cols : number of columns of the Dataset\n",
    "        DELTA_T   : time interval between the two PIV frames in microseconds\n",
    "    \"\"\"\n",
    "\n",
    "    # defaults\n",
    "    frame = 0\n",
    "\n",
    "    # split path from the filename\n",
    "    fname = filename.name\n",
    "    # get the number in a filename if it's a .vec file from Insight\n",
    "    if \".\" in fname[:-4]:  # day2a005003.T000.D000.P003.H001.L.vec\n",
    "        frame = int(re.findall(r\"\\d+\", fname.split(\".\")[0])[-1])\n",
    "    elif \"_\" in filename[:-4]:\n",
    "        frame = int(\n",
    "            re.findall(r\"\\d+\", fname.split(\"_\")[1])[-1]\n",
    "        )  # exp1_001_b.vec, .txt\n",
    "\n",
    "    with open(filename,\"r\") as fid:\n",
    "        header = fid.readline()\n",
    "\n",
    "    # if the file does not have a header, can be from OpenPIV or elsewhere\n",
    "    # return None\n",
    "    if header[:5] != \"TITLE\":\n",
    "        variables = [\"x\", \"y\", \"u\", \"v\"]\n",
    "        units = [\"pix\", \"pix\", \"pix\", \"pix\"]\n",
    "        rows = None\n",
    "        cols = None\n",
    "        dt = 0.0\n",
    "        return (variables, units, rows, cols, dt, frame)\n",
    "\n",
    "    header_list = (\n",
    "        header.replace(\",\", \" \").replace(\"=\", \" \").replace('\"', \" \").split()\n",
    "    )\n",
    "\n",
    "    # get variable names, typically X,Y,U,V\n",
    "    variables = header_list[3:12][::2]\n",
    "\n",
    "    # get units - this is important if it's mm or m/s\n",
    "    units = header_list[4:12][::2]\n",
    "\n",
    "    # get the size of the PIV grid in rows x cols\n",
    "    rows = int(header_list[-5])\n",
    "    cols = int(header_list[-3])\n",
    "\n",
    "    # this is also important to know the time interval, DELTA_T\n",
    "    ind1 = header.find(\"MicrosecondsPerDeltaT\")\n",
    "    dt = float(header[ind1:].split('\"')[1])\n",
    "\n",
    "    return (variables, units, rows, cols, dt, frame)"
   ]
  },
  {
   "cell_type": "code",
   "execution_count": 15,
   "metadata": {},
   "outputs": [
    {
     "data": {
      "text/plain": [
       "(['X', 'Y', 'U', 'V', 'CHC'], ['mm', 'mm', 'm/s', 'm/s'], 63, 63, 2000.0, 1)"
      ]
     },
     "execution_count": 15,
     "metadata": {},
     "output_type": "execute_result"
    }
   ],
   "source": [
    "parse_header(file)"
   ]
  },
  {
   "cell_type": "code",
   "execution_count": 16,
   "metadata": {},
   "outputs": [
    {
     "data": {
      "text/plain": [
       "'TITLE=\"E:\\\\2CM_FP500_5%G_68K\\\\C001H001S0015CC\\\\Soapfilmone\\\\Analysis\\\\Run000001.T000.D000.P000.H001.L.vec\" VARIABLES=\"X mm\", \"Y mm\", \"U m/s\", \"V m/s\", \"CHC\", DATASETAUXDATA Application=\"PIV\" DATASETAUXDATA SourceImageWidth=\"1024\" DATASETAUXDATA SourceImageHeight=\"1024\" DATASETAUXDATA MicrometersPerPixelX=\"19.530001\" DATASETAUXDATA MicrometersPerPixelY=\"19.530001\" DATASETAUXDATA LengthUnit=\"mm\" DATASETAUXDATA OriginInImageX=\"0.000000\" DATASETAUXDATA OriginInImageY=\"0.000000\" DATASETAUXDATA MicrosecondsPerDeltaT=\"2000.000000\" DATASETAUXDATA TimeUnit=\"ms\" DATASETAUXDATA SecondaryPeakNumber=\"0\" DATASETAUXDATA DewarpedImageSource=\"0\" ZONE I=63, J=63, F=POINT\\n'"
      ]
     },
     "execution_count": 16,
     "metadata": {},
     "output_type": "execute_result"
    }
   ],
   "source": [
    "header"
   ]
  },
  {
   "cell_type": "code",
   "execution_count": null,
   "metadata": {},
   "outputs": [],
   "source": []
  }
 ],
 "metadata": {
  "kernelspec": {
   "display_name": "Python 3.8.12 64-bit",
   "language": "python",
   "name": "python3"
  },
  "language_info": {
   "codemirror_mode": {
    "name": "ipython",
    "version": 3
   },
   "file_extension": ".py",
   "mimetype": "text/x-python",
   "name": "python",
   "nbconvert_exporter": "python",
   "pygments_lexer": "ipython3",
   "version": "3.8.12"
  },
  "orig_nbformat": 4,
  "vscode": {
   "interpreter": {
    "hash": "03e34814937a156905f166f184e2fc1bbb91f2c043c514292aed6abea91ed019"
   }
  }
 },
 "nbformat": 4,
 "nbformat_minor": 2
}
