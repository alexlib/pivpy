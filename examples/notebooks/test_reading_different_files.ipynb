{
 "cells": [
  {
   "cell_type": "code",
   "execution_count": 5,
   "metadata": {},
   "outputs": [],
   "source": [
    "from pivpy import io, pivpy, graphics"
   ]
  },
  {
   "cell_type": "code",
   "execution_count": 6,
   "metadata": {},
   "outputs": [],
   "source": [
    "import xarray as xr\n",
    "from typing import List \n",
    "import numpy as np\n",
    "import pandas as pd\n",
    "import pkg_resources as pkg\n"
   ]
  },
  {
   "cell_type": "code",
   "execution_count": 7,
   "metadata": {},
   "outputs": [
    {
     "name": "stdout",
     "output_type": "stream",
     "text": [
      "[PosixPath('/home/user/Documents/repos/pivpy/pivpy/data/Insight'), PosixPath('/home/user/Documents/repos/pivpy/pivpy/data/PIV_Challenge'), PosixPath('/home/user/Documents/repos/pivpy/pivpy/data/day2'), PosixPath('/home/user/Documents/repos/pivpy/pivpy/data/openpiv'), PosixPath('/home/user/Documents/repos/pivpy/pivpy/data/urban_canopy')]\n",
      "/home/user/Documents/repos/pivpy/pivpy/data/Insight/Run000001.T000.D000.P000.H001.L.vec\n",
      "/home/user/Documents/repos/pivpy/pivpy/data/PIV_Challenge/B00001.txt\n",
      "/home/user/Documents/repos/pivpy/pivpy/data/day2/day2a005000.T000.D000.P003.H001.L.vec\n",
      "/home/user/Documents/repos/pivpy/pivpy/data/openpiv/exp1_001_b.txt\n",
      "/home/user/Documents/repos/pivpy/pivpy/data/urban_canopy/B00001.vc7\n"
     ]
    }
   ],
   "source": [
    "import pathlib\n",
    "\n",
    "path = pathlib.Path(pkg.resource_filename(\"pivpy\", \"data\"))\n",
    "subdirs = [x for x in sorted(path.glob('**/*')) if x.is_dir()]\n",
    "# subdirs = [s for s in subdirs if s.stem != '.ipynb_checkpoints']\n",
    "print(subdirs)\n",
    "\n",
    "# sorted(dirs[0].rglob('[!.]*'))\n",
    "test_files = []\n",
    "for d in subdirs:\n",
    "    files = [x for x in sorted(d.rglob('[!.]*')) if not x.is_dir() ]\n",
    "    print(files[0])\n",
    "    test_files.append(files[0])"
   ]
  },
  {
   "cell_type": "code",
   "execution_count": 8,
   "metadata": {},
   "outputs": [
    {
     "name": "stdout",
     "output_type": "stream",
     "text": [
      "/home/user/Documents/repos/pivpy/pivpy/data/Insight/Run000001.T000.D000.P000.H001.L.vec\n",
      "Run000001.T000.D000.P000.H001.L\n",
      "1\n",
      "/home/user/Documents/repos/pivpy/pivpy/data/PIV_Challenge/B00001.txt\n",
      "B00001\n",
      "1\n",
      "/home/user/Documents/repos/pivpy/pivpy/data/day2/day2a005000.T000.D000.P003.H001.L.vec\n",
      "day2a005000.T000.D000.P003.H001.L\n",
      "5000\n",
      "/home/user/Documents/repos/pivpy/pivpy/data/openpiv/exp1_001_b.txt\n",
      "exp1_001_b\n",
      "1\n",
      "/home/user/Documents/repos/pivpy/pivpy/data/urban_canopy/B00001.vc7\n",
      "B00001\n",
      "1\n"
     ]
    }
   ],
   "source": [
    "from pivpy.io import *\n",
    "\n",
    "for file in test_files:\n",
    "    print(file)\n",
    "    print(file.stem)\n",
    "    variables, units, rows, cols, dt, frame, method = parse_header(file)\n",
    "    print(frame)\n",
    "    ds = method(file)\n",
    "    # print(ds.head())\n"
   ]
  },
  {
   "cell_type": "code",
   "execution_count": null,
   "metadata": {},
   "outputs": [],
   "source": []
  }
 ],
 "metadata": {
  "kernelspec": {
   "display_name": "Python 3.8.12 64-bit",
   "language": "python",
   "name": "python3"
  },
  "language_info": {
   "codemirror_mode": {
    "name": "ipython",
    "version": 3
   },
   "file_extension": ".py",
   "mimetype": "text/x-python",
   "name": "python",
   "nbconvert_exporter": "python",
   "pygments_lexer": "ipython3",
   "version": "3.8.12"
  },
  "orig_nbformat": 4,
  "vscode": {
   "interpreter": {
    "hash": "cc9f4a0bb10ffa66460a048df631f1f9f016c2b1c927bb3119f96382f3a023b9"
   }
  }
 },
 "nbformat": 4,
 "nbformat_minor": 2
}
